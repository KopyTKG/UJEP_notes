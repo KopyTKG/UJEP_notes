{
 "cells": [
  {
   "cell_type": "markdown",
   "metadata": {
    "id": "Oj4q_2S6ZoI-"
   },
   "source": [
    "# Algoritmizace a programování 1 - cvičení\n",
    "---\n"
   ]
  },
  {
   "cell_type": "markdown",
   "metadata": {
    "id": "o_VEY7QSaGov"
   },
   "source": [
    "## Cvičení 1 - Standartní vstup a výstup \n",
    "---\n",
    "```python\n",
    "def main():\n",
    "  print(\"No\")\n",
    "\n",
    "main()\n",
    "```\n"
   ]
  },
  {
   "cell_type": "markdown",
   "metadata": {
    "id": "JSkALbh_ZmSf"
   },
   "source": [
    "## On-site cvičení 1"
   ]
  },
  {
   "cell_type": "code",
   "execution_count": null,
   "metadata": {},
   "outputs": [],
   "source": []
  },
  {
   "cell_type": "markdown",
   "metadata": {},
   "source": [
    "### Barový systém"
   ]
  },
  {
   "cell_type": "code",
   "execution_count": 5,
   "metadata": {
    "id": "qCrZRYdjcwNB"
   },
   "outputs": [
    {
     "name": "stdin",
     "output_type": "stream",
     "text": [
      "Zadej svůj věk:  17\n"
     ]
    },
    {
     "name": "stdout",
     "output_type": "stream",
     "text": [
      "Tady máte váš nápoj mléko\n"
     ]
    }
   ],
   "source": [
    "vekova_restrikce = 18\n",
    "vek_uzivatele = int(input(\"Zadej svůj věk: \"))\n",
    "napoj = \"braník\" if vek_uzivatele >= vekova_restrikce else \"mléko\"\n",
    "print(f\"Tady máte váš nápoj {napoj}\")"
   ]
  },
  {
   "cell_type": "markdown",
   "metadata": {},
   "source": [
    "### Pravoúhly trojúhelník"
   ]
  },
  {
   "cell_type": "code",
   "execution_count": 4,
   "metadata": {},
   "outputs": [
    {
     "name": "stdin",
     "output_type": "stream",
     "text": [
      "Napis delky stran trojúhelníka odděleného čárkou:  3,4,5\n"
     ]
    },
    {
     "name": "stdout",
     "output_type": "stream",
     "text": [
      "Je pravoúhly? True\n"
     ]
    }
   ],
   "source": [
    "strany = input(\"Napis delky stran trojúhelníka odděleného čárkou: \")\n",
    "strany = list(map(float, strany.split(',')))\n",
    "prepona = max(strany)\n",
    "strany.remove(prepona)\n",
    "odvesna1, odvesna2 = strany\n",
    "pravouhlost = True if (odvesna1**2 + odvesna2**2) == prepona**2 else False \n",
    "print(f\"Je pravoúhly? {pravouhlost}\")"
   ]
  }
 ],
 "metadata": {
  "colab": {
   "collapsed_sections": [],
   "provenance": []
  },
  "kernelspec": {
   "display_name": "Python 3 (ipykernel)",
   "language": "python",
   "name": "python3"
  },
  "language_info": {
   "codemirror_mode": {
    "name": "ipython",
    "version": 3
   },
   "file_extension": ".py",
   "mimetype": "text/x-python",
   "name": "python",
   "nbconvert_exporter": "python",
   "pygments_lexer": "ipython3",
   "version": "3.10.7"
  }
 },
 "nbformat": 4,
 "nbformat_minor": 4
}
