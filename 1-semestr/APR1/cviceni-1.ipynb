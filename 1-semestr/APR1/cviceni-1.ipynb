{
 "cells": [
  {
   "cell_type": "markdown",
   "metadata": {
    "id": "Oj4q_2S6ZoI-"
   },
   "source": [
    "# Algoritmizace a programování 1 - cvičení\n",
    "---"
   ]
  },
  {
   "cell_type": "markdown",
   "metadata": {
    "id": "o_VEY7QSaGov"
   },
   "source": [
    "## Cvičení 1 - Standartní vstup a výstup (On-site)"
   ]
  },
  {
   "cell_type": "markdown",
   "metadata": {},
   "source": [
    "### 1.1 (De)motivační aplikace"
   ]
  },
  {
   "cell_type": "code",
   "execution_count": null,
   "metadata": {},
   "outputs": [],
   "source": [
    "uzivatelske_jmeno = \"Martin\"\n",
    "pridavne_jmeno = \"stupidní\"\n",
    "\n",
    "print(f\"{uzivatelske_jmeno} ty jsi ale {pridavne_jmeno} hoch :(\")"
   ]
  },
  {
   "cell_type": "markdown",
   "metadata": {},
   "source": [
    "### 1.2 Nastavení mysli"
   ]
  },
  {
   "cell_type": "code",
   "execution_count": null,
   "metadata": {},
   "outputs": [],
   "source": [
    "uzivatelske_jmeno = \"Martin\"\n",
    "nastaveni_mysli = input(\"Jsi pozitivní či negativní? \")\n",
    "pridavne_jmeno = \"chytrý\" if nastaveni_mysli == \"pozitivní\" else \"stupidní\"\n",
    "\n",
    "print(f\"{uzivatelske_jmeno} dneska si velice {pridavne_jmeno}\")"
   ]
  },
  {
   "cell_type": "markdown",
   "metadata": {
    "tags": []
   },
   "source": [
    "### 1.3 Barový systém"
   ]
  },
  {
   "cell_type": "code",
   "execution_count": null,
   "metadata": {
    "id": "qCrZRYdjcwNB",
    "tags": []
   },
   "outputs": [],
   "source": [
    "vekova_restrikce = 18\n",
    "vek_uzivatele = int(input(\"Zadej svůj věk: \"))\n",
    "napoj = \"braník\" if vek_uzivatele >= vekova_restrikce else \"mléko\"\n",
    "print(f\"Tady máte váš nápoj {napoj}\")"
   ]
  },
  {
   "cell_type": "markdown",
   "metadata": {
    "tags": []
   },
   "source": [
    "### 1.4 Pravoúhly trojúhelník"
   ]
  },
  {
   "cell_type": "code",
   "execution_count": null,
   "metadata": {},
   "outputs": [],
   "source": [
    "strany = input(\"Napis delky stran trojúhelníka odděleného čárkou: \")\n",
    "strany = list(map(float, strany.split(',')))\n",
    "prepona = max(strany)\n",
    "strany.remove(prepona)\n",
    "odvesna1, odvesna2 = strany\n",
    "pravouhlost = True if (odvesna1**2 + odvesna2**2) == prepona**2 else False \n",
    "print(f\"Je pravoúhly? {pravouhlost}\")"
   ]
  },
  {
   "cell_type": "markdown",
   "metadata": {},
   "source": [
    "## Domácí cvičení"
   ]
  },
  {
   "cell_type": "markdown",
   "metadata": {},
   "source": [
    "### Úkol HW1.1: Dotazník"
   ]
  },
  {
   "cell_type": "code",
   "execution_count": null,
   "metadata": {},
   "outputs": [],
   "source": [
    "vstup_retezec = input(\"Zadej jméno příjmení věk: \")\n",
    "vstup_retezec = list(vstup_retezec.split(\" \"))\n",
    "print(vstup_retezec)\n",
    "jmeno, prijmeni, vek = vstup_retezec\n",
    "print(f\"Jmenuješ se {jmeno} {prijmeni} a za rok ti bude {int(vek)+1} let.\")"
   ]
  },
  {
   "cell_type": "markdown",
   "metadata": {},
   "source": [
    "### Úkol HW1.2: Kalkulačka"
   ]
  },
  {
   "cell_type": "code",
   "execution_count": null,
   "metadata": {
    "tags": []
   },
   "outputs": [],
   "source": [
    "vstupni_cislo_A = float(input(\"Zadej číslo a: \"))\n",
    "vstupni_cislo_B = float(input(\"Zadej číslo b: \"))\n",
    "\n",
    "print(f\"\"\"\n",
    "a + b = {vstupni_cislo_A + vstupni_cislo_B}\n",
    "a - b = {vstupni_cislo_A - vstupni_cislo_B}\n",
    "a * b = {vstupni_cislo_A * vstupni_cislo_B}\n",
    "a / b = {vstupni_cislo_A / vstupni_cislo_B}\n",
    "      \"\"\")\n"
   ]
  },
  {
   "cell_type": "markdown",
   "metadata": {},
   "source": [
    "### Úkol HW1.3: Objem kvádru"
   ]
  },
  {
   "cell_type": "code",
   "execution_count": null,
   "metadata": {},
   "outputs": [],
   "source": [
    "vstupni_cisla = input(\"Zadej čísla a,b,v: \")\n",
    "vstupni_cisla = list(map(int, vstupni_cisla.split(\",\")))\n",
    "stana_a, strana_b, vyska = vstupni_cisla\n",
    "print(f\"Objem kvádru je {stana_a * strana_b * vyska}\")"
   ]
  },
  {
   "cell_type": "markdown",
   "metadata": {
    "tags": []
   },
   "source": [
    "### Úkol HW1.4: Výsledek relací"
   ]
  },
  {
   "cell_type": "code",
   "execution_count": null,
   "metadata": {},
   "outputs": [],
   "source": [
    "ulozeny_vek = 24\n",
    "zadany_vek = int(input(\"Zadej svůj věk: \"))\n",
    "\n",
    "print(f\"\"\"\n",
    "{ulozeny_vek}<{zadany_vek}  : {ulozeny_vek < zadany_vek}\n",
    "{ulozeny_vek}<={zadany_vek} : {ulozeny_vek <= zadany_vek}\n",
    "{ulozeny_vek}>{zadany_vek}  : {ulozeny_vek > zadany_vek}\n",
    "{ulozeny_vek}>={zadany_vek} : {ulozeny_vek >= zadany_vek}\n",
    "{ulozeny_vek}!={zadany_vek} : {ulozeny_vek != zadany_vek}\n",
    "{ulozeny_vek}=={zadany_vek} : {ulozeny_vek == zadany_vek}\n",
    "\"\"\")\n"
   ]
  },
  {
   "cell_type": "markdown",
   "metadata": {},
   "source": [
    "### Úkol HW1.5: Logické spojky"
   ]
  },
  {
   "cell_type": "code",
   "execution_count": null,
   "metadata": {},
   "outputs": [],
   "source": [
    "xlog1 = True\n",
    "xlog2 = False\n",
    "\n",
    "print(f\"\"\"\n",
    "{xlog1=}\n",
    "{xlog2=}\n",
    "\n",
    "xlog1 and xlog2 = {xlog1 and xlog2}\n",
    "xlog1 or xlog2 = {xlog1 or xlog2}\n",
    "not xlog1 = {not xlog1}\n",
    "\"\"\")"
   ]
  },
  {
   "cell_type": "markdown",
   "metadata": {},
   "source": [
    "### Úkol HW1.6: DeMorganovy zákony"
   ]
  },
  {
   "cell_type": "code",
   "execution_count": null,
   "metadata": {},
   "outputs": [],
   "source": [
    "xlog1, xlog2 = True, False\n",
    "\n",
    "print(f\"\"\"\n",
    "{xlog1=}  | {xlog2=}\n",
    "\n",
    "(not(xlog1 and xlog2)) == ((not xlog1) or (not xlog2))\n",
    "Negace konjunkce {(not(xlog1 and xlog2)) == ((not xlog1) or (not xlog2))}\n",
    "\n",
    "(not(xlog1 or xlog2)) == ((not xlog1) and (not xlog2))\n",
    "Negace disjunkce {(not(xlog1 or xlog2)) == ((not xlog1) and (not xlog2))}\n",
    "\n",
    "\"\"\")"
   ]
  },
  {
   "cell_type": "code",
   "execution_count": null,
   "metadata": {},
   "outputs": [],
   "source": []
  }
 ],
 "metadata": {
  "colab": {
   "collapsed_sections": [],
   "provenance": []
  },
  "kernelspec": {
   "display_name": "Python 3 (ipykernel)",
   "language": "python",
   "name": "python3"
  },
  "language_info": {
   "codemirror_mode": {
    "name": "ipython",
    "version": 3
   },
   "file_extension": ".py",
   "mimetype": "text/x-python",
   "name": "python",
   "nbconvert_exporter": "python",
   "pygments_lexer": "ipython3",
   "version": "3.9.12"
  }
 },
 "nbformat": 4,
 "nbformat_minor": 4
}
