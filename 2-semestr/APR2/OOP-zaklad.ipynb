{
 "cells": [
  {
   "cell_type": "code",
   "execution_count": 81,
   "id": "718d1930-d78b-4a86-b599-8da7e8e01af6",
   "metadata": {},
   "outputs": [],
   "source": [
    "from datetime import datetime\n",
    "import copy\n",
    "\n",
    "class Event:\n",
    "    def __init__(self, timestamp: datetime, description: str):\n",
    "        self.timestamp = timestamp\n",
    "        self.description = description\n",
    "        \n",
    "    def __str__(self) -> str:\n",
    "        return f\"Event [{self.timestamp:%d.%m.%Y - %H:%M:%S}, {self.description}]\"\n",
    "    \n",
    "    def getTimestamp(self):\n",
    "        return self.timestamp\n",
    "    \n",
    "class Calendar:\n",
    "    def __init__(self):\n",
    "        self.events = []\n",
    "        \n",
    "    def newEvent(self, timestamp: datetime, description: str):\n",
    "        self.events.append(Event(timestamp, description))\n",
    "    \n",
    "    def removeEventByTimestamp(self, timestamp: datetime):\n",
    "        for event in self.events:\n",
    "            if event.getTimestamp() == timestamp:\n",
    "                self.events.remove(event)\n",
    "    \n",
    "    def nextEvent(self, timestamp:datetime) -> Event:\n",
    "        for event in self.events:\n",
    "            if event.timestamp > timestamp:\n",
    "                return str(event)\n",
    "    \n",
    "    def getAllEvents(self):\n",
    "        strEvents = []\n",
    "        for event in self.events:\n",
    "            strEvents.append(str(event))\n",
    "        return strEvents\n",
    " \n",
    "    def removeExpired(self):\n",
    "        now = datetime.now()\n",
    "        for event in self.events:\n",
    "            if event.getTimestamp() < now:\n",
    "                self.events.remove(event)\n",
    "        \n",
    "myCalendar = Calendar()\n",
    "myCalendar.newEvent(datetime(2023, 2, 22, 10, 25, 0), \"first Event\")\n",
    "myCalendar.newEvent(datetime(2023, 2, 23, 10, 25, 0), \"first Event\")\n",
    "myCalendar.newEvent(datetime(2023, 2, 24, 18, 25, 0), \"Second Event\")\n",
    "myCalendar.newEvent(datetime(2023, 2, 25, 22, 15, 0), \"Third Event\")"
   ]
  },
  {
   "cell_type": "code",
   "execution_count": 83,
   "id": "02538fa7-cd52-4c21-af4f-4731a8b860b2",
   "metadata": {},
   "outputs": [
    {
     "name": "stdout",
     "output_type": "stream",
     "text": [
      "['Event [22.02.2023 - 10:25:00, first Event]', 'Event [23.02.2023 - 10:25:00, first Event]', 'Event [25.02.2023 - 22:15:00, Third Event]']\n",
      "Event [23.02.2023 - 10:25:00, first Event]\n",
      "['Event [22.02.2023 - 10:25:00, first Event]', 'Event [23.02.2023 - 10:25:00, first Event]', 'Event [25.02.2023 - 22:15:00, Third Event]']\n",
      "['Event [23.02.2023 - 10:25:00, first Event]', 'Event [25.02.2023 - 22:15:00, Third Event]']\n"
     ]
    }
   ],
   "source": [
    "print(myCalendar.getAllEvents())\n",
    "print(myCalendar.nextEvent(datetime.now()))\n",
    "myCalendar.removeEventByTimestamp(datetime(2023, 2, 24, 18, 25, 0))\n",
    "print(myCalendar.getAllEvents())\n",
    "\n",
    "myCalendar.removeExpired()\n",
    "print(myCalendar.getAllEvents())\n"
   ]
  },
  {
   "cell_type": "code",
   "execution_count": null,
   "id": "338f4d60-c69a-40ce-ae02-88472feab404",
   "metadata": {},
   "outputs": [],
   "source": []
  }
 ],
 "metadata": {
  "kernelspec": {
   "display_name": "Python 3 (ipykernel)",
   "language": "python",
   "name": "python3"
  },
  "language_info": {
   "codemirror_mode": {
    "name": "ipython",
    "version": 3
   },
   "file_extension": ".py",
   "mimetype": "text/x-python",
   "name": "python",
   "nbconvert_exporter": "python",
   "pygments_lexer": "ipython3",
   "version": "3.9.13"
  }
 },
 "nbformat": 4,
 "nbformat_minor": 5
}
